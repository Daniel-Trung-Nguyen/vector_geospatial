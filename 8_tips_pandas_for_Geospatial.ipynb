{
 "cells": [
  {
   "cell_type": "markdown",
   "metadata": {},
   "source": [
    "## 8 tips for Pandas and Python for Geospatial People. <br>\n",
    "In this notebook I will share some tips that I have picked up from using Pandas and GeoPandas. Increasingly using Pandas / GeoPandas is a great way to work with vector data that you might traditionally interact with in a desktop GIS software. These tips are from questions that I have been asked on training courses http://www.acgeospatial.co.uk/training/ or I have just picked up from stackoverflow or experimentation. Where possible I have acknowledged the source."
   ]
  },
  {
   "cell_type": "markdown",
   "metadata": {},
   "source": [
    "# Tip 1\n",
    "<br></br>\n",
    "### Downloading data (and extracting it)\n",
    "<br> </br>\n",
    "In this example I am downloading a zip file from natutalearthdata.com. It contains a shapefile"
   ]
  },
  {
   "cell_type": "code",
   "execution_count": 1,
   "metadata": {},
   "outputs": [],
   "source": [
    "#credit https://stackoverflow.com/questions/9419162/download-returned-zip-file-from-url\n",
    "import requests, zipfile, io ## Python imports\n",
    "\n",
    "# set the url to the data\n",
    "url = 'https://www.naturalearthdata.com/http//www.naturalearthdata.com/download/50m/cultural/ne_50m_admin_0_countries.zip'\n",
    "\n",
    "\n",
    "# Use requests to download that url and zipfile to extract it\n",
    "r = requests.get(url)\n",
    "z = zipfile.ZipFile(io.BytesIO(r.content))\n",
    "z.extractall()"
   ]
  },
  {
   "cell_type": "code",
   "execution_count": 2,
   "metadata": {},
   "outputs": [
    {
     "name": "stdout",
     "output_type": "stream",
     "text": [
      "['ne_50m_admin_0_countries.README.html', 'ne_50m_admin_0_countries.VERSION.txt', 'ne_50m_admin_0_countries.cpg', 'ne_50m_admin_0_countries.dbf', 'ne_50m_admin_0_countries.prj', 'ne_50m_admin_0_countries.shp', 'ne_50m_admin_0_countries.shx']\n"
     ]
    }
   ],
   "source": [
    "## find out what we have got\n",
    "print(z.namelist())"
   ]
  },
  {
   "cell_type": "markdown",
   "metadata": {},
   "source": [
    "# Tip 2\n",
    "<br></br>\n",
    "### Load and plot in GeoPandas\n",
    "<br></br>\n",
    "This is simpler than you would perhaps have thought?"
   ]
  },
  {
   "cell_type": "code",
   "execution_count": 3,
   "metadata": {},
   "outputs": [
    {
     "name": "stdout",
     "output_type": "stream",
     "text": [
      "        featurecla  scalerank  LABELRANK SOVEREIGNT SOV_A3  ADM0_DIF  LEVEL  \\\n",
      "0  Admin-0 country          1          3   Zimbabwe    ZWE         0      2   \n",
      "1  Admin-0 country          1          3     Zambia    ZMB         0      2   \n",
      "2  Admin-0 country          1          3      Yemen    YEM         0      2   \n",
      "3  Admin-0 country          3          2    Vietnam    VNM         0      2   \n",
      "4  Admin-0 country          5          3  Venezuela    VEN         0      2   \n",
      "\n",
      "                TYPE      ADMIN ADM0_A3  \\\n",
      "0  Sovereign country   Zimbabwe     ZWE   \n",
      "1  Sovereign country     Zambia     ZMB   \n",
      "2  Sovereign country      Yemen     YEM   \n",
      "3  Sovereign country    Vietnam     VNM   \n",
      "4  Sovereign country  Venezuela     VEN   \n",
      "\n",
      "                         ...                                  NAME_KO  \\\n",
      "0                        ...                             ì§ë°ë¸ì¨   \n",
      "1                        ...                                ì ë¹ì   \n",
      "2                        ...                                   ìë©   \n",
      "3                        ...                                ë² í¸ë¨   \n",
      "4                        ...                          ë² ë¤ììë¼   \n",
      "\n",
      "     NAME_NL    NAME_PL    NAME_PT             NAME_RU    NAME_SV    NAME_TR  \\\n",
      "0   Zimbabwe   Zimbabwe  ZimbÃ¡bue    ÐÐ¸Ð¼Ð±Ð°Ð±Ð²Ðµ   Zimbabwe   Zimbabve   \n",
      "1     Zambia     Zambia    ZÃ¢mbia        ÐÐ°Ð¼Ð±Ð¸Ñ     Zambia    Zambiya   \n",
      "2      Jemen      Jemen     IÃ©men          ÐÐµÐ¼ÐµÐ½      Jemen      Yemen   \n",
      "3    Vietnam    Wietnam   Vietname      ÐÑÐµÑÐ½Ð°Ð¼    Vietnam    Vietnam   \n",
      "4  Venezuela  Wenezuela  Venezuela  ÐÐµÐ½ÐµÑÑÑÐ»Ð°  Venezuela  Venezuela   \n",
      "\n",
      "      NAME_VI       NAME_ZH                                           geometry  \n",
      "0    Zimbabwe     è¾å·´å¨  POLYGON ((31.28789062500002 -22.40205078125001...  \n",
      "1      Zambia     èµæ¯äº  POLYGON ((30.39609375000001 -15.64306640625, 3...  \n",
      "2       Yemen        ä¹é¨  (POLYGON ((53.08564453125001 16.648388671875, ...  \n",
      "3  Viá»t Nam        è¶å  (POLYGON ((104.06396484375 10.3908203125, 104....  \n",
      "4   Venezuela  å§å",
      "§çæ  (POLYGON ((-60.82119140624999 9.13837890624999...  \n",
      "\n",
      "[5 rows x 95 columns]\n"
     ]
    }
   ],
   "source": [
    "#load into geopandas\n",
    "import geopandas as gpd\n",
    "shape_data = \"ne_50m_admin_0_countries.shp\" # refer to z.namelist()\n",
    "gdf = gpd.read_file(shape_data) # read in the file\n",
    "print (gdf.head()) # print the head (Bonus tip! try gdf.tail() to get the lat 5 records, OR gdf.head(10) for the first 10)"
   ]
  },
  {
   "cell_type": "markdown",
   "metadata": {},
   "source": [
    "# Tip 1 and 2 combined!\n",
    "### Thanks to @James_O_Connor1 for the tip!\n",
    "<br></br>\n",
    "You can load into GeoPandas directly with gpd.GeoDataFrame.from_file"
   ]
  },
  {
   "cell_type": "code",
   "execution_count": 4,
   "metadata": {},
   "outputs": [],
   "source": [
    "gdf = gpd.GeoDataFrame.from_file('https://www.naturalearthdata.com/http//www.naturalearthdata.com/download/50m/cultural/ne_50m_admin_0_countries.zip')"
   ]
  },
  {
   "cell_type": "code",
   "execution_count": 5,
   "metadata": {},
   "outputs": [
    {
     "name": "stdout",
     "output_type": "stream",
     "text": [
      "{'init': 'epsg:4326'}\n"
     ]
    }
   ],
   "source": [
    "# Get the projection - we will need it later (we will assign it to a variable called projection)\n",
    "print(gdf.crs)\n",
    "projection = gdf.crs"
   ]
  },
  {
   "cell_type": "code",
   "execution_count": 6,
   "metadata": {},
   "outputs": [
    {
     "data": {
      "text/plain": [
       "<matplotlib.axes._subplots.AxesSubplot at 0x1dc94c7a588>"
      ]
     },
     "execution_count": 6,
     "metadata": {},
     "output_type": "execute_result"
    },
    {
     "data": {
      "image/png": "[encoded data removed]",
      "text/plain": [
       "<Figure size 432x288 with 1 Axes>"
      ]
     },
     "metadata": {},
     "output_type": "display_data"
    }
   ],
   "source": [
    "## plotting can be done in just one line. \n",
    "## Go here for more details on simple plots\n",
    "## https://github.com/acgeospatial/Satellite_Imagery_Python/blob/master/geopandas_blog.ipynb\n",
    "## scaling, attributes, legends, mulitple layers all covered\n",
    "%matplotlib inline\n",
    "gdf.plot()"
   ]
  },
  {
   "cell_type": "markdown",
   "metadata": {},
   "source": [
    "# Tip 3 removing columns\n",
    "<br></br>\n",
    "### You don't always want to keep all the data - and you don't have to"
   ]
  },
  {
   "cell_type": "code",
   "execution_count": 7,
   "metadata": {},
   "outputs": [
    {
     "name": "stdout",
     "output_type": "stream",
     "text": [
      "featurecla     object\n",
      "scalerank       int64\n",
      "LABELRANK       int64\n",
      "SOVEREIGNT     object\n",
      "SOV_A3         object\n",
      "ADM0_DIF        int64\n",
      "LEVEL           int64\n",
      "TYPE           object\n",
      "ADMIN          object\n",
      "ADM0_A3        object\n",
      "GEOU_DIF        int64\n",
      "GEOUNIT        object\n",
      "GU_A3          object\n",
      "SU_DIF          int64\n",
      "SUBUNIT        object\n",
      "SU_A3          object\n",
      "BRK_DIFF        int64\n",
      "NAME           object\n",
      "NAME_LONG      object\n",
      "BRK_A3         object\n",
      "BRK_NAME       object\n",
      "BRK_GROUP      object\n",
      "ABBREV         object\n",
      "POSTAL         object\n",
      "FORMAL_EN      object\n",
      "FORMAL_FR      object\n",
      "NAME_CIAWF     object\n",
      "NOTE_ADM0      object\n",
      "NOTE_BRK       object\n",
      "NAME_SORT      object\n",
      "               ...   \n",
      "ABBREV_LEN      int64\n",
      "TINY            int64\n",
      "HOMEPART        int64\n",
      "MIN_ZOOM      float64\n",
      "MIN_LABEL     float64\n",
      "MAX_LABEL     float64\n",
      "NE_ID           int64\n",
      "WIKIDATAID     object\n",
      "NAME_AR        object\n",
      "NAME_BN        object\n",
      "NAME_DE        object\n",
      "NAME_EN        object\n",
      "NAME_ES        object\n",
      "NAME_FR        object\n",
      "NAME_EL        object\n",
      "NAME_HI        object\n",
      "NAME_HU        object\n",
      "NAME_ID        object\n",
      "NAME_IT        object\n",
      "NAME_JA        object\n",
      "NAME_KO        object\n",
      "NAME_NL        object\n",
      "NAME_PL        object\n",
      "NAME_PT        object\n",
      "NAME_RU        object\n",
      "NAME_SV        object\n",
      "NAME_TR        object\n",
      "NAME_VI        object\n",
      "NAME_ZH        object\n",
      "geometry       object\n",
      "Length: 95, dtype: object\n"
     ]
    }
   ],
   "source": [
    "## find out what columns you have (95 in this case)\n",
    "print(gdf.dtypes)"
   ]
  },
  {
   "cell_type": "code",
   "execution_count": 8,
   "metadata": {},
   "outputs": [
    {
     "name": "stdout",
     "output_type": "stream",
     "text": [
      "featurecla     object\n",
      "scalerank       int64\n",
      "LABELRANK       int64\n",
      "SOVEREIGNT     object\n",
      "SOV_A3         object\n",
      "ADM0_DIF        int64\n",
      "LEVEL           int64\n",
      "TYPE           object\n",
      "ADMIN          object\n",
      "ADM0_A3        object\n",
      "GEOU_DIF        int64\n",
      "GEOUNIT        object\n",
      "GU_A3          object\n",
      "SU_DIF          int64\n",
      "SUBUNIT        object\n",
      "SU_A3          object\n",
      "BRK_DIFF        int64\n",
      "NAME           object\n",
      "NAME_LONG      object\n",
      "BRK_A3         object\n",
      "BRK_NAME       object\n",
      "BRK_GROUP      object\n",
      "ABBREV         object\n",
      "POSTAL         object\n",
      "FORMAL_EN      object\n",
      "FORMAL_FR      object\n",
      "NAME_CIAWF     object\n",
      "NOTE_ADM0      object\n",
      "NOTE_BRK       object\n",
      "NAME_SORT      object\n",
      "               ...   \n",
      "LONG_LEN        int64\n",
      "ABBREV_LEN      int64\n",
      "TINY            int64\n",
      "HOMEPART        int64\n",
      "MIN_ZOOM      float64\n",
      "MIN_LABEL     float64\n",
      "MAX_LABEL     float64\n",
      "NE_ID           int64\n",
      "WIKIDATAID     object\n",
      "NAME_AR        object\n",
      "NAME_BN        object\n",
      "NAME_DE        object\n",
      "NAME_EN        object\n",
      "NAME_ES        object\n",
      "NAME_FR        object\n",
      "NAME_EL        object\n",
      "NAME_HI        object\n",
      "NAME_HU        object\n",
      "NAME_ID        object\n",
      "NAME_IT        object\n",
      "NAME_JA        object\n",
      "NAME_KO        object\n",
      "NAME_NL        object\n",
      "NAME_PL        object\n",
      "NAME_PT        object\n",
      "NAME_RU        object\n",
      "NAME_SV        object\n",
      "NAME_TR        object\n",
      "NAME_VI        object\n",
      "geometry       object\n",
      "Length: 94, dtype: object\n"
     ]
    }
   ],
   "source": [
    "# remove just 1 column 'NAME_ZH'\n",
    "gdf.drop('NAME_ZH', axis=1, inplace=True)\n",
    "print (gdf.dtypes)"
   ]
  },
  {
   "cell_type": "code",
   "execution_count": 9,
   "metadata": {},
   "outputs": [
    {
     "name": "stdout",
     "output_type": "stream",
     "text": [
      "featurecla     object\n",
      "scalerank       int64\n",
      "LABELRANK       int64\n",
      "SOVEREIGNT     object\n",
      "SOV_A3         object\n",
      "ADM0_DIF        int64\n",
      "LEVEL           int64\n",
      "TYPE           object\n",
      "ADMIN          object\n",
      "ADM0_A3        object\n",
      "GEOU_DIF        int64\n",
      "GEOUNIT        object\n",
      "GU_A3          object\n",
      "SU_DIF          int64\n",
      "SUBUNIT        object\n",
      "SU_A3          object\n",
      "BRK_DIFF        int64\n",
      "BRK_A3         object\n",
      "BRK_GROUP      object\n",
      "ABBREV         object\n",
      "POSTAL         object\n",
      "FORMAL_EN      object\n",
      "FORMAL_FR      object\n",
      "NOTE_ADM0      object\n",
      "NOTE_BRK       object\n",
      "MAPCOLOR7       int64\n",
      "MAPCOLOR8       int64\n",
      "MAPCOLOR9       int64\n",
      "MAPCOLOR13      int64\n",
      "POP_EST         int64\n",
      "               ...   \n",
      "WIKIPEDIA       int64\n",
      "FIPS_10_       object\n",
      "ISO_A2         object\n",
      "ISO_A3         object\n",
      "ISO_A3_EH      object\n",
      "ISO_N3         object\n",
      "UN_A3          object\n",
      "WB_A2          object\n",
      "WB_A3          object\n",
      "WOE_ID          int64\n",
      "WOE_ID_EH       int64\n",
      "WOE_NOTE       object\n",
      "ADM0_A3_IS     object\n",
      "ADM0_A3_US     object\n",
      "ADM0_A3_UN      int64\n",
      "ADM0_A3_WB      int64\n",
      "CONTINENT      object\n",
      "REGION_UN      object\n",
      "SUBREGION      object\n",
      "REGION_WB      object\n",
      "LONG_LEN        int64\n",
      "ABBREV_LEN      int64\n",
      "TINY            int64\n",
      "HOMEPART        int64\n",
      "MIN_ZOOM      float64\n",
      "MIN_LABEL     float64\n",
      "MAX_LABEL     float64\n",
      "NE_ID           int64\n",
      "WIKIDATAID     object\n",
      "geometry       object\n",
      "Length: 67, dtype: object\n"
     ]
    }
   ],
   "source": [
    "# Drop all the columns with that start with NAME or contain NAME\n",
    "# Reference https://stackoverflow.com/questions/19071199/drop-columns-whose-name-contains-a-specific-string-from-pandas-dataframe\n",
    "\n",
    "gdf.drop(list(gdf.filter(regex = 'NAME')), axis = 1, inplace = True)\n",
    "print (gdf.dtypes)"
   ]
  },
  {
   "cell_type": "markdown",
   "metadata": {},
   "source": [
    "# Tip 4 Renaming Columns\n",
    "<br></br>\n",
    "### How often in a GIS have you created a field that you then wish you could rename, but you can't. That is annoying! In Pandas we can rename a field in one line of code"
   ]
  },
  {
   "cell_type": "code",
   "execution_count": 10,
   "metadata": {},
   "outputs": [
    {
     "name": "stdout",
     "output_type": "stream",
     "text": [
      "featurecla     object\n",
      "scalerank       int64\n",
      "LABELRANK       int64\n",
      "SOVEREIGNT     object\n",
      "SOV_A3         object\n",
      "ADM0_DIF        int64\n",
      "LEVEL           int64\n",
      "TYPE           object\n",
      "C_Name         object\n",
      "ADM0_A3        object\n",
      "GEOU_DIF        int64\n",
      "GEOUNIT        object\n",
      "GU_A3          object\n",
      "SU_DIF          int64\n",
      "SUBUNIT        object\n",
      "SU_A3          object\n",
      "BRK_DIFF        int64\n",
      "BRK_A3         object\n",
      "BRK_GROUP      object\n",
      "ABBREV         object\n",
      "POSTAL         object\n",
      "FORMAL_EN      object\n",
      "FORMAL_FR      object\n",
      "NOTE_ADM0      object\n",
      "NOTE_BRK       object\n",
      "MAPCOLOR7       int64\n",
      "MAPCOLOR8       int64\n",
      "MAPCOLOR9       int64\n",
      "MAPCOLOR13      int64\n",
      "POP_EST         int64\n",
      "               ...   \n",
      "WIKIPEDIA       int64\n",
      "FIPS_10_       object\n",
      "ISO_A2         object\n",
      "ISO_A3         object\n",
      "ISO_A3_EH      object\n",
      "ISO_N3         object\n",
      "UN_A3          object\n",
      "WB_A2          object\n",
      "WB_A3          object\n",
      "WOE_ID          int64\n",
      "WOE_ID_EH       int64\n",
      "WOE_NOTE       object\n",
      "ADM0_A3_IS     object\n",
      "ADM0_A3_US     object\n",
      "ADM0_A3_UN      int64\n",
      "ADM0_A3_WB      int64\n",
      "CONTINENT      object\n",
      "REGION_UN      object\n",
      "SUBREGION      object\n",
      "REGION_WB      object\n",
      "LONG_LEN        int64\n",
      "ABBREV_LEN      int64\n",
      "TINY            int64\n",
      "HOMEPART        int64\n",
      "MIN_ZOOM      float64\n",
      "MIN_LABEL     float64\n",
      "MAX_LABEL     float64\n",
      "NE_ID           int64\n",
      "WIKIDATAID     object\n",
      "geometry       object\n",
      "Length: 67, dtype: object\n"
     ]
    }
   ],
   "source": [
    "# Remane ADMIN to become C_NAME\n",
    "gdf.rename(columns={\"ADMIN\": \"C_Name\"}, inplace=True)\n",
    "print (gdf.dtypes)"
   ]
  },
  {
   "cell_type": "markdown",
   "metadata": {},
   "source": [
    "# Tip 5 Changing a column's datatype\n",
    "<br></br>\n",
    "### Not something I do much, but sometimes you want to move from a float to an int - and in Pandas this can be done!"
   ]
  },
  {
   "cell_type": "code",
   "execution_count": 11,
   "metadata": {},
   "outputs": [
    {
     "name": "stdout",
     "output_type": "stream",
     "text": [
      "featurecla     object\n",
      "scalerank       int64\n",
      "LABELRANK       int64\n",
      "SOVEREIGNT     object\n",
      "SOV_A3         object\n",
      "ADM0_DIF        int64\n",
      "LEVEL           int64\n",
      "TYPE           object\n",
      "C_Name         object\n",
      "ADM0_A3        object\n",
      "GEOU_DIF        int64\n",
      "GEOUNIT        object\n",
      "GU_A3          object\n",
      "SU_DIF          int64\n",
      "SUBUNIT        object\n",
      "SU_A3          object\n",
      "BRK_DIFF        int64\n",
      "BRK_A3         object\n",
      "BRK_GROUP      object\n",
      "ABBREV         object\n",
      "POSTAL         object\n",
      "FORMAL_EN      object\n",
      "FORMAL_FR      object\n",
      "NOTE_ADM0      object\n",
      "NOTE_BRK       object\n",
      "MAPCOLOR7       int64\n",
      "MAPCOLOR8       int64\n",
      "MAPCOLOR9       int64\n",
      "MAPCOLOR13      int64\n",
      "POP_EST         int64\n",
      "               ...   \n",
      "WIKIPEDIA       int64\n",
      "FIPS_10_       object\n",
      "ISO_A2         object\n",
      "ISO_A3         object\n",
      "ISO_A3_EH      object\n",
      "ISO_N3         object\n",
      "UN_A3          object\n",
      "WB_A2          object\n",
      "WB_A3          object\n",
      "WOE_ID          int64\n",
      "WOE_ID_EH       int64\n",
      "WOE_NOTE       object\n",
      "ADM0_A3_IS     object\n",
      "ADM0_A3_US     object\n",
      "ADM0_A3_UN      int64\n",
      "ADM0_A3_WB      int64\n",
      "CONTINENT      object\n",
      "REGION_UN      object\n",
      "SUBREGION      object\n",
      "REGION_WB      object\n",
      "LONG_LEN        int64\n",
      "ABBREV_LEN      int64\n",
      "TINY            int64\n",
      "HOMEPART        int64\n",
      "MIN_ZOOM        int32\n",
      "MIN_LABEL     float64\n",
      "MAX_LABEL     float64\n",
      "NE_ID           int64\n",
      "WIKIDATAID     object\n",
      "geometry       object\n",
      "Length: 67, dtype: object\n"
     ]
    }
   ],
   "source": [
    "# Change MIN_ZOOM to integer (tip in Pandas Strings in the columns are assigned the type object)\n",
    "gdf = gdf.astype({'MIN_ZOOM': 'int32'})\n",
    "print(gdf.dtypes)"
   ]
  },
  {
   "cell_type": "markdown",
   "metadata": {},
   "source": [
    "# Tip 6 Parse an attribute query\n",
    "<br></br>\n",
    "### Want to know something about our attribute data? In Pandas you can"
   ]
  },
  {
   "cell_type": "code",
   "execution_count": 12,
   "metadata": {},
   "outputs": [
    {
     "name": "stdout",
     "output_type": "stream",
     "text": [
      "          featurecla  scalerank  LABELRANK SOVEREIGNT SOV_A3  ADM0_DIF  LEVEL  \\\n",
      "217  Admin-0 country          1          2    Belgium    BEL         0      2   \n",
      "\n",
      "                  TYPE   C_Name ADM0_A3  \\\n",
      "217  Sovereign country  Belgium     BEL   \n",
      "\n",
      "                           ...                          LONG_LEN ABBREV_LEN  \\\n",
      "217                        ...                                 7          5   \n",
      "\n",
      "    TINY  HOMEPART MIN_ZOOM MIN_LABEL  MAX_LABEL       NE_ID WIKIDATAID  \\\n",
      "217  -99         1        0       4.0        9.0  1159320389        Q31   \n",
      "\n",
      "                                              geometry  \n",
      "217  POLYGON ((4.226171875000006 51.386474609375, 4...  \n",
      "\n",
      "[1 rows x 67 columns]\n"
     ]
    }
   ],
   "source": [
    "## Credit https://stackoverflow.com/questions/17071871/select-rows-from-a-dataframe-based-on-values-in-a-column-in-pandas\n",
    "## Get the polygon of Belgium\n",
    "gdf_Bel = gdf.loc[gdf['C_Name'] == 'Belgium']\n",
    "print(gdf_Bel.head())"
   ]
  },
  {
   "cell_type": "markdown",
   "metadata": {},
   "source": [
    "# Tip 7 convert a Pandas object (with a Geometry field) back to a GeoPandas object\n",
    "### We have done a fair amount of data manipulation, and the result is the dataframe we wanted, but we want it to be a GeoPandas object (because we are spatial people right?)"
   ]
  },
  {
   "cell_type": "code",
   "execution_count": 13,
   "metadata": {},
   "outputs": [
    {
     "name": "stdout",
     "output_type": "stream",
     "text": [
      "<class 'pandas.core.frame.DataFrame'>\n"
     ]
    }
   ],
   "source": [
    "## Along the way we have lost our geometry to check this print the type\n",
    "print(type(gdf_Bel))"
   ]
  },
  {
   "cell_type": "code",
   "execution_count": 14,
   "metadata": {},
   "outputs": [
    {
     "name": "stdout",
     "output_type": "stream",
     "text": [
      "<class 'geopandas.geodataframe.GeoDataFrame'>\n",
      "{'init': 'epsg:4326'}\n"
     ]
    },
    {
     "data": {
      "text/plain": [
       "<matplotlib.axes._subplots.AxesSubplot at 0x1dc94c81438>"
      ]
     },
     "execution_count": 14,
     "metadata": {},
     "output_type": "execute_result"
    },
    {
     "data": {
      "image/png": "[encoded data removed]",
      "text/plain": [
       "<Figure size 432x288 with 1 Axes>"
      ]
     },
     "metadata": {},
     "output_type": "display_data"
    }
   ],
   "source": [
    "## convert to a GeoPandas object\n",
    "#projection = {'init': 'epsg:4326'} ## remember we assigned this before in tip 2 (cell 4)\n",
    "gdf_Bel = gpd.GeoDataFrame(gdf_Bel, crs = projection, geometry = 'geometry')\n",
    "print(type(gdf_Bel))\n",
    "print(gdf_Bel.crs)\n",
    "gdf_Bel.plot()"
   ]
  },
  {
   "cell_type": "markdown",
   "metadata": {},
   "source": [
    "# Tip 8\n",
    "<br></br>\n",
    "### Save our work\n",
    "<br></br>\n",
    "we have come a fair old way. Now its time to save our work. Back to a shapefile? You don't have to\n",
    "http://geopandas.org/io.html\n",
    "<br></br>\n",
    "But in this example we will"
   ]
  },
  {
   "cell_type": "code",
   "execution_count": 15,
   "metadata": {},
   "outputs": [],
   "source": [
    "gdf_Bel.to_file(\"Belgium.shp\")"
   ]
  },
  {
   "cell_type": "markdown",
   "metadata": {},
   "source": [
    "You can pretty much do anything you like in Pandas, these are really just some simple examples. I really hope you find it useful. I run training courses in Geospatial Python http://www.acgeospatial.co.uk/training/ please do check them out. If you want more information email me on info@acgeospatial.co.uk"
   ]
  },
  {
   "cell_type": "markdown",
   "metadata": {},
   "source": [
    "Oh and if you were wondering where the zip, extracted zip and the Belgium shapefile are now stored have a look in the same place that you have run this notebook!"
   ]
  }
 ],
 "metadata": {
  "kernelspec": {
   "display_name": "Python 3",
   "language": "python",
   "name": "python3"
  },
  "language_info": {
   "codemirror_mode": {
    "name": "ipython",
    "version": 3
   },
   "file_extension": ".py",
   "mimetype": "text/x-python",
   "name": "python",
   "nbconvert_exporter": "python",
   "pygments_lexer": "ipython3",
   "version": "3.6.5"
  }
 },
 "nbformat": 4,
 "nbformat_minor": 2
}
